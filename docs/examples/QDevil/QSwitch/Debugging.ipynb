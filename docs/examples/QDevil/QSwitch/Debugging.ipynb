{
 "cells": [
  {
   "cell_type": "markdown",
   "id": "c08d6367",
   "metadata": {},
   "source": [
    "# QSwitch debugging\n"
   ]
  },
  {
   "cell_type": "code",
   "execution_count": 1,
   "id": "85f2a1e0",
   "metadata": {},
   "outputs": [
    {
     "name": "stdout",
     "output_type": "stream",
     "text": [
      "Connected to: Quantum Machines QSwitch (serial:1, firmware:0.160) in 0.12s\n"
     ]
    }
   ],
   "source": [
    "import pprint\n",
    "pp = pprint.PrettyPrinter()\n",
    "from qcodes_contrib_drivers.drivers.QDevil import QSwitch\n",
    "qswitch_addr = '192.168.8.20'\n",
    "qswitch = QSwitch.QSwitch('switch', visalib='@py', address=f'TCPIP::{qswitch_addr}::5025::SOCKET')"
   ]
  },
  {
   "cell_type": "code",
   "execution_count": 2,
   "id": "64f0cbe6",
   "metadata": {},
   "outputs": [
    {
     "data": {
      "text/plain": [
       "'(@1!0:24!0)'"
      ]
     },
     "execution_count": 2,
     "metadata": {},
     "output_type": "execute_result"
    }
   ],
   "source": [
    "qswitch.start_recording_scpi()\n",
    "qswitch.reset()\n",
    "qswitch.state()"
   ]
  },
  {
   "cell_type": "code",
   "execution_count": 3,
   "id": "e73d9114",
   "metadata": {},
   "outputs": [],
   "source": [
    "qswitch.arrange(\n",
    "    # BNC 2 connected to DMM, BNC 7 to VNA\n",
    "    breakouts={'DMM': 5, 'VNA': 7},\n",
    "    # Give names to lines 23 & 5\n",
    "    lines={'plunger': 23, 'sensor': 5})"
   ]
  },
  {
   "cell_type": "code",
   "execution_count": 4,
   "id": "2a4d1c55",
   "metadata": {},
   "outputs": [
    {
     "data": {
      "text/plain": [
       "'0,\"No error\"'"
      ]
     },
     "execution_count": 4,
     "metadata": {},
     "output_type": "execute_result"
    }
   ],
   "source": [
    "qswitch.connect('sensor')\n",
    "qswitch.breakout('sensor', 'DMM')\n",
    "qswitch.unground('sensor')\n",
    "qswitch.errors()"
   ]
  },
  {
   "cell_type": "code",
   "execution_count": 5,
   "id": "0d8a7693",
   "metadata": {},
   "outputs": [
    {
     "name": "stdout",
     "output_type": "stream",
     "text": [
      "['*rst', 'stat?', 'stat?', 'clos (@5!9)', 'clos (@5!5)', 'open (@5!0)', 'all?']\n"
     ]
    }
   ],
   "source": [
    "pp.pprint(qswitch.get_recorded_scpi_commands())"
   ]
  },
  {
   "cell_type": "markdown",
   "id": "4a00d73e-88e0-439c-9b80-15aaffaf2064",
   "metadata": {},
   "source": [
    "If you are connecting via USB, then you need `pyserial` installed."
   ]
  },
  {
   "cell_type": "code",
   "execution_count": 1,
   "id": "37ac76f2",
   "metadata": {},
   "outputs": [
    {
     "name": "stderr",
     "output_type": "stream",
     "text": [
      "/Users/jps/repos/qdevil/QCodes_contrib_drivers/venv/lib/python3.11/site-packages/pyvisa_py/tcpip.py:121: UserWarning: TCPIP::hislip resource discovery requires the zeroconf package to be installed... try 'pip install zeroconf'\n",
      "  warnings.warn(\n"
     ]
    },
    {
     "data": {
      "text/plain": [
       "('ASRL/dev/cu.BLTH::INSTR',\n",
       " 'ASRL/dev/cu.Bluetooth-Incoming-Port::INSTR',\n",
       " 'ASRL/dev/cu.usbmodem14101::INSTR')"
      ]
     },
     "execution_count": 1,
     "metadata": {},
     "output_type": "execute_result"
    }
   ],
   "source": [
    "import pyvisa\n",
    "rm = pyvisa.ResourceManager('@py')\n",
    "rm.list_resources()"
   ]
  }
 ],
 "metadata": {
  "kernelspec": {
   "display_name": "Python 3 (ipykernel)",
   "language": "python",
   "name": "python3"
  },
  "language_info": {
   "codemirror_mode": {
    "name": "ipython",
    "version": 3
   },
   "file_extension": ".py",
   "mimetype": "text/x-python",
   "name": "python",
   "nbconvert_exporter": "python",
   "pygments_lexer": "ipython3",
   "version": "3.11.5"
  },
  "nbsphinx": {
   "execute": "never"
  }
 },
 "nbformat": 4,
 "nbformat_minor": 5
}
