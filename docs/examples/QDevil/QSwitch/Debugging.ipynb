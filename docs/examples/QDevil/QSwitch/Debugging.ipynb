{
 "cells": [
  {
   "cell_type": "markdown",
   "id": "c08d6367",
   "metadata": {},
   "source": [
    "# QSwitch debugging\n"
   ]
  },
  {
   "cell_type": "code",
   "execution_count": null,
   "id": "85f2a1e0",
   "metadata": {},
   "outputs": [],
   "source": [
    "import pprint\n",
    "pp = pprint.PrettyPrinter()\n",
    "from qcodes_contrib_drivers.drivers.QDevil import QSwitch\n",
    "qswitch_addr = '192.168.8.21'\n",
    "qswitch = QSwitch.QSwitch('switch', visalib='@py', address=f'TCPIP::{qswitch_addr}::5025::SOCKET')"
   ]
  },
  {
   "cell_type": "code",
   "execution_count": null,
   "id": "e73d9114",
   "metadata": {},
   "outputs": [],
   "source": [
    "arrangement = qswitch.arrange(\n",
    "        # BNC 2 connected to DMM, BNC 7 to VNA\n",
    "        breakouts={'DMM': 2, 'VNA': 7},\n",
    "        # Give names to lines 1 & 3\n",
    "        lines={'plunger': 1, 'sensor': 3})"
   ]
  },
  {
   "cell_type": "code",
   "execution_count": null,
   "id": "2a4d1c55",
   "metadata": {},
   "outputs": [],
   "source": [
    "qswitch.start_recording_scpi()\n",
    "arrangement.connect('sensor', 'DMM')\n",
    "arrangement.connect('plunger', 'VNA')\n",
    "# Unnamed lines can still be referred to by number\n",
    "arrangement.unground('sensor', 'plunger', 2)\n",
    "pp.pprint(qdac.get_recorded_scpi_commands())"
   ]
  }
 ],
 "metadata": {
  "kernelspec": {
   "display_name": "Python 3 (ipykernel)",
   "language": "python",
   "name": "python3"
  },
  "language_info": {
   "codemirror_mode": {
    "name": "ipython",
    "version": 3
   },
   "file_extension": ".py",
   "mimetype": "text/x-python",
   "name": "python",
   "nbconvert_exporter": "python",
   "pygments_lexer": "ipython3",
   "version": "3.10.12"
  },
  "nbsphinx": {
   "execute": "never"
  }
 },
 "nbformat": 4,
 "nbformat_minor": 5
}
