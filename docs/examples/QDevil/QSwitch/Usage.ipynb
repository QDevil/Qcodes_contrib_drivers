{
 "cells": [
  {
   "cell_type": "markdown",
   "id": "1d197bb4",
   "metadata": {},
   "source": [
    "# QSwitch usage"
   ]
  },
  {
   "cell_type": "code",
   "execution_count": 1,
   "id": "f2241500",
   "metadata": {},
   "outputs": [
    {
     "name": "stdout",
     "output_type": "stream",
     "text": [
      "Connected to: Quantum Machines QSwitch (serial:2, firmware:0.150) in 0.13s\n"
     ]
    }
   ],
   "source": [
    "from time import sleep as sleep_s\n",
    "import pprint\n",
    "pp = pprint.PrettyPrinter()\n",
    "import numpy as np\n",
    "import qcodes\n",
    "from qcodes_contrib_drivers.drivers.QDevil import QSwitch\n",
    "qswitch_addr = '192.168.8.20'\n",
    "qswitch = QSwitch.QSwitch('switch', visalib='@py', address=f'TCPIP::{qswitch_addr}::5025::SOCKET')"
   ]
  },
  {
   "cell_type": "code",
   "execution_count": 3,
   "id": "4af28b15",
   "metadata": {},
   "outputs": [
    {
     "data": {
      "text/plain": [
       "'(@1!0:24!0)'"
      ]
     },
     "execution_count": 3,
     "metadata": {},
     "output_type": "execute_result"
    }
   ],
   "source": [
    "qswitch.reset()\n",
    "qswitch.state()"
   ]
  },
  {
   "cell_type": "markdown",
   "id": "18f2f8a7",
   "metadata": {},
   "source": [
    "Manipulate line 23:"
   ]
  },
  {
   "cell_type": "code",
   "execution_count": 4,
   "id": "30cee55b",
   "metadata": {},
   "outputs": [
    {
     "data": {
      "text/plain": [
       "'(@1!0:22!0,24!0,23!9)'"
      ]
     },
     "execution_count": 4,
     "metadata": {},
     "output_type": "execute_result"
    }
   ],
   "source": [
    "qswitch.connect(23)\n",
    "qswitch.unground(23)\n",
    "qswitch.state()"
   ]
  },
  {
   "cell_type": "markdown",
   "id": "82302e78",
   "metadata": {},
   "source": [
    "Tap off line 23 through BNC 2:"
   ]
  },
  {
   "cell_type": "code",
   "execution_count": 5,
   "id": "0aaec0d7",
   "metadata": {},
   "outputs": [
    {
     "data": {
      "text/plain": [
       "'(@1!0:22!0,24!0,23!2,23!9)'"
      ]
     },
     "execution_count": 5,
     "metadata": {},
     "output_type": "execute_result"
    }
   ],
   "source": [
    "qswitch.break_out(23, 2)\n",
    "qswitch.state()"
   ]
  },
  {
   "cell_type": "markdown",
   "id": "fc27ae03",
   "metadata": {},
   "source": [
    "Or as a Python array:"
   ]
  },
  {
   "cell_type": "code",
   "execution_count": 6,
   "id": "907fa7d7",
   "metadata": {},
   "outputs": [
    {
     "data": {
      "text/plain": [
       "[(1, 0),\n",
       " (2, 0),\n",
       " (3, 0),\n",
       " (4, 0),\n",
       " (5, 0),\n",
       " (6, 0),\n",
       " (7, 0),\n",
       " (8, 0),\n",
       " (9, 0),\n",
       " (10, 0),\n",
       " (11, 0),\n",
       " (12, 0),\n",
       " (13, 0),\n",
       " (14, 0),\n",
       " (15, 0),\n",
       " (16, 0),\n",
       " (17, 0),\n",
       " (18, 0),\n",
       " (19, 0),\n",
       " (20, 0),\n",
       " (21, 0),\n",
       " (22, 0),\n",
       " (24, 0),\n",
       " (23, 2),\n",
       " (23, 9)]"
      ]
     },
     "execution_count": 6,
     "metadata": {},
     "output_type": "execute_result"
    }
   ],
   "source": [
    "qswitch.all_closed_relays()"
   ]
  },
  {
   "cell_type": "markdown",
   "id": "312277de",
   "metadata": {},
   "source": [
    "Manipulate several lines at once:"
   ]
  },
  {
   "cell_type": "code",
   "execution_count": 7,
   "id": "12d54bc6",
   "metadata": {},
   "outputs": [
    {
     "data": {
      "text/plain": [
       "'(@6!0:7!0,9!0,13!0:22!0,24!0,23!2)'"
      ]
     },
     "execution_count": 7,
     "metadata": {},
     "output_type": "execute_result"
    }
   ],
   "source": [
    "qswitch.unground([1,2,3,4,5,8,10,11,12])\n",
    "qswitch.disconnect(range(1, 25))\n",
    "qswitch.state()"
   ]
  },
  {
   "cell_type": "markdown",
   "id": "26eb8b38",
   "metadata": {},
   "source": [
    "## Arrangements"
   ]
  },
  {
   "cell_type": "code",
   "execution_count": null,
   "id": "9d908b75",
   "metadata": {},
   "outputs": [],
   "source": [
    "qswitch.arrange(\n",
    "    # BNC 2 connected to DMM, BNC 7 to VNAk\n",
    "    breakouts={'DMM': 2, 'VNA': 7},\n",
    "    # Give names to lines 1 & 3\n",
    "    lines={'plunger': 1, 'sensor': 3})"
   ]
  },
  {
   "cell_type": "markdown",
   "id": "e8fbc6a2",
   "metadata": {},
   "source": [
    "## Monitors"
   ]
  },
  {
   "cell_type": "code",
   "execution_count": 13,
   "id": "e6b94d1d",
   "metadata": {},
   "outputs": [],
   "source": [
    "monitor = qcodes.Monitor(qswitch.state, qswitch.all_closed_relays)"
   ]
  },
  {
   "cell_type": "code",
   "execution_count": 9,
   "id": "b0116499",
   "metadata": {},
   "outputs": [],
   "source": [
    "qswitch.ground(range(1,25))"
   ]
  },
  {
   "cell_type": "code",
   "execution_count": 7,
   "id": "f8d86439",
   "metadata": {},
   "outputs": [
    {
     "data": {
      "text/plain": [
       "'(@1!0:24!0,23!2)'"
      ]
     },
     "execution_count": 7,
     "metadata": {},
     "output_type": "execute_result"
    }
   ],
   "source": [
    "qswitch.state()"
   ]
  },
  {
   "cell_type": "code",
   "execution_count": 11,
   "id": "d56fdb4e",
   "metadata": {},
   "outputs": [],
   "source": [
    "qswitch.unground(range(1,25))"
   ]
  },
  {
   "cell_type": "code",
   "execution_count": 14,
   "id": "49857248",
   "metadata": {},
   "outputs": [
    {
     "data": {
      "text/plain": [
       "True"
      ]
     },
     "execution_count": 14,
     "metadata": {},
     "output_type": "execute_result"
    }
   ],
   "source": [
    "monitor.is_alive()"
   ]
  }
 ],
 "metadata": {
  "kernelspec": {
   "display_name": "Python 3 (ipykernel)",
   "language": "python",
   "name": "python3"
  },
  "language_info": {
   "codemirror_mode": {
    "name": "ipython",
    "version": 3
   },
   "file_extension": ".py",
   "mimetype": "text/x-python",
   "name": "python",
   "nbconvert_exporter": "python",
   "pygments_lexer": "ipython3",
   "version": "3.10.12"
  },
  "nbsphinx": {
   "execute": "never"
  }
 },
 "nbformat": 4,
 "nbformat_minor": 5
}
