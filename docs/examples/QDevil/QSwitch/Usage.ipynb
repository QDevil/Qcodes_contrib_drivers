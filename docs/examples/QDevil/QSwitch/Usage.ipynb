{
 "cells": [
  {
   "cell_type": "markdown",
   "id": "1d197bb4",
   "metadata": {},
   "source": [
    "# QSwitch usage"
   ]
  },
  {
   "cell_type": "code",
   "execution_count": null,
   "id": "f2241500",
   "metadata": {},
   "outputs": [],
   "source": [
    "from time import sleep as sleep_s\n",
    "import pprint\n",
    "pp = pprint.PrettyPrinter()\n",
    "import numpy as np\n",
    "from qcodes_contrib_drivers.drivers.QDevil import QSwitch\n",
    "qswitch_addr = '192.168.8.21'\n",
    "qswitch = QSwitch.QSwitch('switch', visalib='@py', address=f'TCPIP::{qswitch_addr}::5025::SOCKET')"
   ]
  },
  {
   "cell_type": "markdown",
   "id": "18f2f8a7",
   "metadata": {},
   "source": [
    "Manipulate line 23:"
   ]
  },
  {
   "cell_type": "code",
   "execution_count": null,
   "id": "30cee55b",
   "metadata": {},
   "outputs": [],
   "source": [
    "qswitch.connect(23)  # Or turn_on(23)\n",
    "qswitch.unground(23)\n",
    "qswitch.state()"
   ]
  },
  {
   "cell_type": "markdown",
   "id": "82302e78",
   "metadata": {},
   "source": [
    "Tap off line 23 through BNC 2:"
   ]
  },
  {
   "cell_type": "code",
   "execution_count": null,
   "id": "907fa7d7",
   "metadata": {},
   "outputs": [],
   "source": [
    "qswitch.break_out(23, 2)  # Or tap_out()"
   ]
  },
  {
   "cell_type": "markdown",
   "id": "312277de",
   "metadata": {},
   "source": [
    "Manipulate several lines at once:"
   ]
  },
  {
   "cell_type": "code",
   "execution_count": null,
   "id": "12d54bc6",
   "metadata": {},
   "outputs": [],
   "source": [
    "qswitch.ground([1,2,3,4,5,8,10,11,12])\n",
    "qswitch.disconnect(range(1, 25))  # Or turn_off()"
   ]
  },
  {
   "cell_type": "markdown",
   "id": "26eb8b38",
   "metadata": {},
   "source": [
    "## Arrangements"
   ]
  },
  {
   "cell_type": "code",
   "execution_count": null,
   "id": "9d908b75",
   "metadata": {},
   "outputs": [],
   "source": []
  },
  {
   "cell_type": "markdown",
   "id": "e8fbc6a2",
   "metadata": {},
   "source": [
    "## Monitors"
   ]
  },
  {
   "cell_type": "code",
   "execution_count": null,
   "id": "e6b94d1d",
   "metadata": {},
   "outputs": [],
   "source": []
  }
 ],
 "metadata": {
  "kernelspec": {
   "display_name": "Python 3 (ipykernel)",
   "language": "python",
   "name": "python3"
  },
  "language_info": {
   "codemirror_mode": {
    "name": "ipython",
    "version": 3
   },
   "file_extension": ".py",
   "mimetype": "text/x-python",
   "name": "python",
   "nbconvert_exporter": "python",
   "pygments_lexer": "ipython3",
   "version": "3.10.12"
  },
  "nbsphinx": {
   "execute": "never"
  }
 },
 "nbformat": 4,
 "nbformat_minor": 5
}
