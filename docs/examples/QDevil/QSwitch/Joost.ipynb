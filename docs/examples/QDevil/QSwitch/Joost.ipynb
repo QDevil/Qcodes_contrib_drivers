{
 "cells": [
  {
   "cell_type": "markdown",
   "id": "5e62a6a0-a4e4-4928-a276-d761d509c2a4",
   "metadata": {},
   "source": [
    "# QSwitch usage"
   ]
  },
  {
   "cell_type": "code",
   "execution_count": 1,
   "id": "4bea1adc-81e2-4388-a9e0-bf8ebc3e4f83",
   "metadata": {},
   "outputs": [
    {
     "name": "stdout",
     "output_type": "stream",
     "text": [
      "Connected to: Quantum Machines QSwitch (serial:4, firmware:0.160) in 0.07s\n"
     ]
    }
   ],
   "source": [
    "import pprint\n",
    "pp = pprint.PrettyPrinter()\n",
    "import numpy as np\n",
    "import qcodes\n",
    "from qcodes_contrib_drivers.drivers.QDevil import QSwitch"
   ]
  },
  {
   "cell_type": "markdown",
   "id": "e2b87dde-0057-4b87-b957-ee44166592cd",
   "metadata": {},
   "source": [
    "Connect via USB:"
   ]
  },
  {
   "cell_type": "code",
   "execution_count": 1,
   "id": "5787c333-0d69-47db-bfe3-37bead44a7c5",
   "metadata": {},
   "outputs": [
    {
     "name": "stdout",
     "output_type": "stream",
     "text": [
      "Connected to: Quantum Machines QSwitch (serial:4, firmware:0.160) in 0.07s\n"
     ]
    }
   ],
   "source": [
    "qswitch_addr = '/dev/cu.usbmodem14101'\n",
    "qswitch = QSwitch.QSwitch('switch', visalib='@py', address=f'ASRL{qswitch_addr}::INSTR')"
   ]
  },
  {
   "cell_type": "markdown",
   "id": "89bf3106-0ffa-4a05-9632-5a7aba24c51e",
   "metadata": {},
   "source": [
    "Or connect via Ethernet:"
   ]
  },
  {
   "cell_type": "code",
   "execution_count": null,
   "id": "a4724b86-62f4-4749-8398-06c32f42f53a",
   "metadata": {},
   "outputs": [],
   "source": [
    "qswitch_addr = '192.168.8.20'\n",
    "qswitch = QSwitch.QSwitch('switch', visalib='@py', address=f'TCPIP::{qswitch_addr}::5025::SOCKET')"
   ]
  },
  {
   "cell_type": "markdown",
   "id": "1866cc7c-eb2d-463f-b16e-ce20125437ac",
   "metadata": {},
   "source": [
    "When the QSwitch is reset, all lines are grounded:"
   ]
  },
  {
   "cell_type": "code",
   "execution_count": 2,
   "id": "a1eb56b0-20cc-4dbd-a603-5c1d3069bcb7",
   "metadata": {},
   "outputs": [
    {
     "data": {
      "text/plain": [
       "'(@1!0:24!0)'"
      ]
     },
     "execution_count": 2,
     "metadata": {},
     "output_type": "execute_result"
    }
   ],
   "source": [
    "qswitch.reset()\n",
    "qswitch.state()"
   ]
  },
  {
   "cell_type": "markdown",
   "id": "2fc0260b-8052-457a-b820-15edd7a699d3",
   "metadata": {},
   "source": [
    "Or expressed as a Python array:"
   ]
  },
  {
   "cell_type": "code",
   "execution_count": 3,
   "id": "4519574b-8427-4412-a156-bc64169e7f22",
   "metadata": {},
   "outputs": [
    {
     "data": {
      "text/plain": [
       "[(1, 0),\n",
       " (2, 0),\n",
       " (3, 0),\n",
       " (4, 0),\n",
       " (5, 0),\n",
       " (6, 0),\n",
       " (7, 0),\n",
       " (8, 0),\n",
       " (9, 0),\n",
       " (10, 0),\n",
       " (11, 0),\n",
       " (12, 0),\n",
       " (13, 0),\n",
       " (14, 0),\n",
       " (15, 0),\n",
       " (16, 0),\n",
       " (17, 0),\n",
       " (18, 0),\n",
       " (19, 0),\n",
       " (20, 0),\n",
       " (21, 0),\n",
       " (22, 0),\n",
       " (23, 0),\n",
       " (24, 0)]"
      ]
     },
     "execution_count": 3,
     "metadata": {},
     "output_type": "execute_result"
    }
   ],
   "source": [
    "qswitch.all_closed_relays()"
   ]
  },
  {
   "cell_type": "markdown",
   "id": "733345b3-f9e4-4edc-a352-7615360a7299",
   "metadata": {},
   "source": [
    "Beep and blink on SCPI command errors:"
   ]
  },
  {
   "cell_type": "code",
   "execution_count": 4,
   "id": "d0e47647-f672-40e8-a9d3-86ac1a5b90c3",
   "metadata": {},
   "outputs": [],
   "source": [
    "qswitch.error_indicator('on')"
   ]
  },
  {
   "cell_type": "code",
   "execution_count": null,
   "id": "5b19e889-97fb-4ea7-b684-3b7ebbf563f6",
   "metadata": {},
   "outputs": [],
   "source": []
  }
 ],
 "metadata": {
  "kernelspec": {
   "display_name": "Python 3 (ipykernel)",
   "language": "python",
   "name": "python3"
  },
  "language_info": {
   "codemirror_mode": {
    "name": "ipython",
    "version": 3
   },
   "file_extension": ".py",
   "mimetype": "text/x-python",
   "name": "python",
   "nbconvert_exporter": "python",
   "pygments_lexer": "ipython3",
   "version": "3.11.5"
  }
 },
 "nbformat": 4,
 "nbformat_minor": 5
}
